{
 "cells": [
  {
   "cell_type": "code",
   "execution_count": null,
   "id": "0e210276",
   "metadata": {},
   "outputs": [],
   "source": [
    "import IPython.display as ipd\n",
    "import os\n",
    "import sys\n",
    "\n",
    "os.environ[\"MKL_NUM_THREADS\"]='1'\n",
    "os.environ[\"NUMEXPR_NUM_THREADS\"]='1'\n",
    "os.environ[\"OMP_NUM_THREADS\"]='1'\n",
    "\n",
    "import torch\n",
    "import numpy as np\n",
    "import librosa\n",
    "\n",
    "sys.path.insert(0, \"../\")\n",
    "from utils import get_hparams\n",
    "from models import get_wrapper\n",
    "\n",
    "os.environ[\"CUDA_VISIBLE_DEVICES\"]='2'\n",
    "device = 'cpu'     # 'cpu' or 'cuda'"
   ]
  },
  {
   "cell_type": "markdown",
   "id": "c59ff612",
   "metadata": {},
   "source": [
    "# Load Model"
   ]
  },
  {
   "cell_type": "code",
   "execution_count": null,
   "id": "c948c295",
   "metadata": {},
   "outputs": [],
   "source": [
    "base_dir = \"../logs/hilcodec_music\"\n",
    "hps = get_hparams(f\"{base_dir}/config.yaml\", base_dir)\n",
    "wrapper = get_wrapper(hps.model)(hps, device=device)\n",
    "wrapper.load()\n",
    "wrapper.eval()\n",
    "\n",
    "sr = hps.data.sampling_rate\n",
    "hop_size = wrapper.hop_size\n",
    "lookahead = getattr(hps.train, \"lookahead\", 0)"
   ]
  },
  {
   "cell_type": "code",
   "execution_count": null,
   "id": "23376632",
   "metadata": {},
   "outputs": [],
   "source": [
    "wav, _ = librosa.load(\"../onnx/input_speech.wav\", sr=sr)\n",
    "wav_r = torch.from_numpy(wav).view(1, 1, -1).to(device=device).clamp(min=-1, max=1)\n",
    "wav_len = wav_r.size(-1) // hop_size * hop_size\n",
    "wav_r = wav_r[:, :, :wav_len]\n",
    "ipd.display(ipd.Audio(wav_r.view(-1).numpy(), normalize=False, rate=sr))\n",
    "\n",
    "with torch.no_grad():\n",
    "    wav_g, *_ = wrapper.model(wav_r, n=8)\n",
    "ipd.display(ipd.Audio(wav_g.view(-1).numpy(), normalize=False, rate=sr))"
   ]
  },
  {
   "cell_type": "code",
   "execution_count": null,
   "id": "cc796cf6-8ae8-4348-a4b8-b27f7183ede5",
   "metadata": {},
   "outputs": [],
   "source": []
  }
 ],
 "metadata": {
  "kernelspec": {
   "display_name": "Python 3 (ipykernel)",
   "language": "python",
   "name": "python3"
  },
  "language_info": {
   "codemirror_mode": {
    "name": "ipython",
    "version": 3
   },
   "file_extension": ".py",
   "mimetype": "text/x-python",
   "name": "python",
   "nbconvert_exporter": "python",
   "pygments_lexer": "ipython3",
   "version": "3.11.5"
  }
 },
 "nbformat": 4,
 "nbformat_minor": 5
}
